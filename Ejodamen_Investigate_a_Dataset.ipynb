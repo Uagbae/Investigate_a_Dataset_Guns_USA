{
 "cells": [
  {
   "cell_type": "markdown",
   "metadata": {},
   "source": [
    "\n",
    "\n",
    "# Exploratory Data Analysis of Guns' Access in the USA\n",
    "\n",
    "## Table of Contents\n",
    "<ul>\n",
    "<li><a href=\"#intro\">Introduction</a></li>\n",
    "<li><a href=\"#wrangling\">Data Wrangling</a></li>\n",
    "<li><a href=\"#eda\">Exploratory Data Analysis</a></li>\n",
    "<li><a href=\"#conclusions\">Conclusions</a></li>\n",
    "</ul>"
   ]
  },
  {
   "cell_type": "markdown",
   "metadata": {},
   "source": [
    "<a id='intro'></a>\n",
    "## Introduction\n",
    "This is Project 1 - Investigate a Dataset!\n",
    "Written by Pius Uagbae Ejodamen;\n",
    "as part of requirements for obtaining a Data Analyst Nanodegree from ALX-T/Udacity.\n",
    "\n",
    "\n",
    "### Dataset Description \n",
    "\n",
    "The datasets used for this investigation are census and FBI's National Instant Criminal Background Check System (NICS) curated data. Gun dealers could do a background check to confirm the eligibility of a buyer to acquire guns or explosives. The NICS provides information on the checks performed across different states in the USA. This data is not suitable to measure gun sales. The census data, on the other hand, provides more information on a state-by-state basis. It is worthy of note that the census dataset is messy and dirty; hence, requiring intense data cleaning.\n"
   ]
  },
  {
   "cell_type": "markdown",
   "metadata": {},
   "source": [
    "The NICS comprises of the following features:\n",
    "<p>\n",
    "<b>S/N  Attributes                 No of records   Datatype </b><l>\n",
    " 0   month                      12485 non-null  object \n",
    " 1   state                      12485 non-null  object \n",
    " 2   permit                     12461 non-null  float64\n",
    " 3   permit_recheck             1100 non-null   float64\n",
    " 4   handgun                    12465 non-null  float64\n",
    " 5   long_gun                   12466 non-null  float64\n",
    " 6   other                      5500 non-null   float64\n",
    " 7   multiple                   12485 non-null  int64  \n",
    " 8   admin                      12462 non-null  float64\n",
    " 9   prepawn_handgun            10542 non-null  float64\n",
    " 10  prepawn_long_gun           10540 non-null  float64\n",
    " 11  prepawn_other              5115 non-null   float64\n",
    " 12  redemption_handgun         10545 non-null  float64\n",
    " 13  redemption_long_gun        10544 non-null  float64\n",
    " 14  redemption_other           5115 non-null   float64\n",
    " 15  returned_handgun           2200 non-null   float64\n",
    " 16  returned_long_gun          2145 non-null   float64\n",
    " 17  returned_other             1815 non-null   float64\n",
    " 18  rentals_handgun            990 non-null    float64\n",
    " 19  rentals_long_gun           825 non-null    float64\n",
    " 20  private_sale_handgun       2750 non-null   float64\n",
    " 21  private_sale_long_gun      2750 non-null   float64\n",
    " 22  private_sale_other         2750 non-null   float64\n",
    " 23  return_to_seller_handgun   2475 non-null   float64\n",
    " 24  return_to_seller_long_gun  2750 non-null   float64\n",
    " 25  return_to_seller_other     2255 non-null   float64\n",
    " 26  totals                     12485 non-null  int64  </l>\n",
    " \n",
    " \n",
    " Also, the census dataset comprises of the states in the USA:\n",
    " No   Column          Non-Null Count  Dtype \n",
    "---  ------          --------------  ----- \n",
    " 0   Fact            80 non-null     object\n",
    " 1   Fact Note       28 non-null     object\n",
    " 2   Alabama         65 non-null     object\n",
    " 3   Alaska          65 non-null     object\n",
    " 4   Arizona         65 non-null     object\n",
    " 5   Arkansas        65 non-null     object\n",
    " 6   California      65 non-null     object\n",
    " 7   Colorado        65 non-null     object\n",
    " 8   Connecticut     65 non-null     object\n",
    " 9   Delaware        65 non-null     object\n",
    " 10  Florida         65 non-null     object\n",
    " 11  Georgia         65 non-null     object\n",
    " 12  Hawaii          65 non-null     object\n",
    " 13  Idaho           65 non-null     object\n",
    " 14  Illinois        65 non-null     object\n",
    " 15  Indiana         65 non-null     object\n",
    " 16  Iowa            65 non-null     object\n",
    " 17  Kansas          65 non-null     object\n",
    " 18  Kentucky        65 non-null     object\n",
    " 19  Louisiana       65 non-null     object\n",
    " 20  Maine           65 non-null     object\n",
    " 21  Maryland        65 non-null     object\n",
    " 22  Massachusetts   65 non-null     object\n",
    " 23  Michigan        65 non-null     object\n",
    " 24  Minnesota       65 non-null     object\n",
    " 25  Mississippi     65 non-null     object\n",
    " 26  Missouri        65 non-null     object\n",
    " 27  Montana         65 non-null     object\n",
    " 28  Nebraska        65 non-null     object\n",
    " 29  Nevada          65 non-null     object\n",
    " 30  New Hampshire   65 non-null     object\n",
    " 31  New Jersey      65 non-null     object\n",
    " 32  New Mexico      65 non-null     object\n",
    " 33  New York        65 non-null     object\n",
    " 34  North Carolina  65 non-null     object\n",
    " 35  North Dakota    65 non-null     object\n",
    " 36  Ohio            65 non-null     object\n",
    " 37  Oklahoma        65 non-null     object\n",
    " 38  Oregon          65 non-null     object\n",
    " 39  Pennsylvania    65 non-null     object\n",
    " 40  Rhode Island    65 non-null     object\n",
    " 41  South Carolina  65 non-null     object\n",
    " 42  South Dakota    65 non-null     object\n",
    " 43  Tennessee       65 non-null     object\n",
    " 44  Texas           65 non-null     object\n",
    " 45  Utah            65 non-null     object\n",
    " 46  Vermont         65 non-null     object\n",
    " 47  Virginia        65 non-null     object\n",
    " 48  Washington      65 non-null     object\n",
    " 49  West Virginia   65 non-null     object\n",
    " 50  Wisconsin       65 non-null     object\n",
    " 51  Wyoming         65 non-null     object\n",
    "\n",
    "\n",
    "\n",
    "### Question(s) for Analysis\n",
    "\n",
    "This project seek answers to the following questions:\n",
    "Which state made the highest permit checks? In what month and year?\n",
    "What type of gun was most prefered in Texas in 2017? \n",
    "How many poor people in New York might have checked for multiple weapons?"
   ]
  },
  {
   "cell_type": "markdown",
   "metadata": {},
   "source": [
    "Import relevant Python libraries"
   ]
  },
  {
   "cell_type": "code",
   "execution_count": 1,
   "metadata": {},
   "outputs": [],
   "source": [
    "import pandas as pd\n",
    "import numpy as np\n",
    "import matplotlib.pyplot as plt\n",
    "%matplotlib inline"
   ]
  },
  {
   "cell_type": "code",
   "execution_count": 2,
   "metadata": {},
   "outputs": [],
   "source": [
    "#Upgrade pandas to use dataframe.explode() function. \n",
    "#!pip install --upgrade pandas==0.25.0"
   ]
  },
  {
   "cell_type": "markdown",
   "metadata": {},
   "source": [
    "<a id='wrangling'></a>\n",
    "## Data Wrangling"
   ]
  },
  {
   "cell_type": "markdown",
   "metadata": {
    "collapsed": true
   },
   "source": [
    "Load your data and print out a few lines. Perform operations to inspect data types\n",
    "and look for instances of missing or possibly errant data."
   ]
  },
  {
   "cell_type": "markdown",
   "metadata": {},
   "source": [
    "Upload relevent datasets to Pandas DataFrames"
   ]
  },
  {
   "cell_type": "code",
   "execution_count": 3,
   "metadata": {},
   "outputs": [],
   "source": [
    "df_gun = pd.read_csv('gun_data.csv')"
   ]
  },
  {
   "cell_type": "markdown",
   "metadata": {},
   "source": [
    "Check the data types of the fields "
   ]
  },
  {
   "cell_type": "code",
   "execution_count": 4,
   "metadata": {},
   "outputs": [
    {
     "data": {
      "text/plain": [
       "month                         object\n",
       "state                         object\n",
       "permit                       float64\n",
       "permit_recheck               float64\n",
       "handgun                      float64\n",
       "long_gun                     float64\n",
       "other                        float64\n",
       "multiple                       int64\n",
       "admin                        float64\n",
       "prepawn_handgun              float64\n",
       "prepawn_long_gun             float64\n",
       "prepawn_other                float64\n",
       "redemption_handgun           float64\n",
       "redemption_long_gun          float64\n",
       "redemption_other             float64\n",
       "returned_handgun             float64\n",
       "returned_long_gun            float64\n",
       "returned_other               float64\n",
       "rentals_handgun              float64\n",
       "rentals_long_gun             float64\n",
       "private_sale_handgun         float64\n",
       "private_sale_long_gun        float64\n",
       "private_sale_other           float64\n",
       "return_to_seller_handgun     float64\n",
       "return_to_seller_long_gun    float64\n",
       "return_to_seller_other       float64\n",
       "totals                         int64\n",
       "dtype: object"
      ]
     },
     "execution_count": 4,
     "metadata": {},
     "output_type": "execute_result"
    }
   ],
   "source": [
    "df_gun.dtypes"
   ]
  },
  {
   "cell_type": "code",
   "execution_count": 5,
   "metadata": {},
   "outputs": [],
   "source": [
    "#Convert the data type of 'multiple' to match other fields\n",
    "df_gun['multiple'] = df_gun['multiple'].astype('float64')"
   ]
  },
  {
   "cell_type": "markdown",
   "metadata": {},
   "source": [
    "Check to confirm it has been effected."
   ]
  },
  {
   "cell_type": "code",
   "execution_count": 6,
   "metadata": {},
   "outputs": [
    {
     "data": {
      "text/plain": [
       "month                         object\n",
       "state                         object\n",
       "permit                       float64\n",
       "permit_recheck               float64\n",
       "handgun                      float64\n",
       "long_gun                     float64\n",
       "other                        float64\n",
       "multiple                     float64\n",
       "admin                        float64\n",
       "prepawn_handgun              float64\n",
       "prepawn_long_gun             float64\n",
       "prepawn_other                float64\n",
       "redemption_handgun           float64\n",
       "redemption_long_gun          float64\n",
       "redemption_other             float64\n",
       "returned_handgun             float64\n",
       "returned_long_gun            float64\n",
       "returned_other               float64\n",
       "rentals_handgun              float64\n",
       "rentals_long_gun             float64\n",
       "private_sale_handgun         float64\n",
       "private_sale_long_gun        float64\n",
       "private_sale_other           float64\n",
       "return_to_seller_handgun     float64\n",
       "return_to_seller_long_gun    float64\n",
       "return_to_seller_other       float64\n",
       "totals                         int64\n",
       "dtype: object"
      ]
     },
     "execution_count": 6,
     "metadata": {},
     "output_type": "execute_result"
    }
   ],
   "source": [
    "df_gun.dtypes"
   ]
  },
  {
   "cell_type": "markdown",
   "metadata": {},
   "source": [
    "The features in the gun dataset shows that there are several categories of gun enquiries <p>\n",
    "However, most of them are filled with empty or null enteries; making them unsuitable for analysis. \n",
    "Besides, our research questions can be answered with few relevant features."
   ]
  },
  {
   "cell_type": "code",
   "execution_count": 7,
   "metadata": {},
   "outputs": [
    {
     "data": {
      "text/plain": [
       "month                            0\n",
       "state                            0\n",
       "permit                          24\n",
       "permit_recheck               11385\n",
       "handgun                         20\n",
       "long_gun                        19\n",
       "other                         6985\n",
       "multiple                         0\n",
       "admin                           23\n",
       "prepawn_handgun               1943\n",
       "prepawn_long_gun              1945\n",
       "prepawn_other                 7370\n",
       "redemption_handgun            1940\n",
       "redemption_long_gun           1941\n",
       "redemption_other              7370\n",
       "returned_handgun             10285\n",
       "returned_long_gun            10340\n",
       "returned_other               10670\n",
       "rentals_handgun              11495\n",
       "rentals_long_gun             11660\n",
       "private_sale_handgun          9735\n",
       "private_sale_long_gun         9735\n",
       "private_sale_other            9735\n",
       "return_to_seller_handgun     10010\n",
       "return_to_seller_long_gun     9735\n",
       "return_to_seller_other       10230\n",
       "totals                           0\n",
       "dtype: int64"
      ]
     },
     "execution_count": 7,
     "metadata": {},
     "output_type": "execute_result"
    }
   ],
   "source": [
    "df_gun.isnull().sum()"
   ]
  },
  {
   "cell_type": "markdown",
   "metadata": {},
   "source": [
    "Now the Gun data is suitably clean for this exercise, <p>\n",
    "Next, we examine the Census dataset."
   ]
  },
  {
   "cell_type": "code",
   "execution_count": 8,
   "metadata": {},
   "outputs": [],
   "source": [
    "#Upload relevent datasets to Pandas DataFrames\n",
    "df_census = pd.read_csv('US_Census_Data.csv')"
   ]
  },
  {
   "cell_type": "markdown",
   "metadata": {},
   "source": [
    "Check to ensure that dataset is uploaded"
   ]
  },
  {
   "cell_type": "code",
   "execution_count": 9,
   "metadata": {},
   "outputs": [
    {
     "data": {
      "text/html": [
       "<div>\n",
       "<style scoped>\n",
       "    .dataframe tbody tr th:only-of-type {\n",
       "        vertical-align: middle;\n",
       "    }\n",
       "\n",
       "    .dataframe tbody tr th {\n",
       "        vertical-align: top;\n",
       "    }\n",
       "\n",
       "    .dataframe thead th {\n",
       "        text-align: right;\n",
       "    }\n",
       "</style>\n",
       "<table border=\"1\" class=\"dataframe\">\n",
       "  <thead>\n",
       "    <tr style=\"text-align: right;\">\n",
       "      <th></th>\n",
       "      <th>Fact</th>\n",
       "      <th>Fact Note</th>\n",
       "      <th>Alabama</th>\n",
       "      <th>Alaska</th>\n",
       "      <th>Arizona</th>\n",
       "      <th>Arkansas</th>\n",
       "      <th>California</th>\n",
       "      <th>Colorado</th>\n",
       "      <th>Connecticut</th>\n",
       "      <th>Delaware</th>\n",
       "      <th>...</th>\n",
       "      <th>South Dakota</th>\n",
       "      <th>Tennessee</th>\n",
       "      <th>Texas</th>\n",
       "      <th>Utah</th>\n",
       "      <th>Vermont</th>\n",
       "      <th>Virginia</th>\n",
       "      <th>Washington</th>\n",
       "      <th>West Virginia</th>\n",
       "      <th>Wisconsin</th>\n",
       "      <th>Wyoming</th>\n",
       "    </tr>\n",
       "  </thead>\n",
       "  <tbody>\n",
       "    <tr>\n",
       "      <th>0</th>\n",
       "      <td>Population estimates, July 1, 2016,  (V2016)</td>\n",
       "      <td>NaN</td>\n",
       "      <td>4,863,300</td>\n",
       "      <td>741,894</td>\n",
       "      <td>6,931,071</td>\n",
       "      <td>2,988,248</td>\n",
       "      <td>39,250,017</td>\n",
       "      <td>5,540,545</td>\n",
       "      <td>3,576,452</td>\n",
       "      <td>952,065</td>\n",
       "      <td>...</td>\n",
       "      <td>865454</td>\n",
       "      <td>6651194</td>\n",
       "      <td>27,862,596</td>\n",
       "      <td>3,051,217</td>\n",
       "      <td>624,594</td>\n",
       "      <td>8,411,808</td>\n",
       "      <td>7,288,000</td>\n",
       "      <td>1,831,102</td>\n",
       "      <td>5,778,708</td>\n",
       "      <td>585,501</td>\n",
       "    </tr>\n",
       "    <tr>\n",
       "      <th>1</th>\n",
       "      <td>Population estimates base, April 1, 2010,  (V2...</td>\n",
       "      <td>NaN</td>\n",
       "      <td>4,780,131</td>\n",
       "      <td>710,249</td>\n",
       "      <td>6,392,301</td>\n",
       "      <td>2,916,025</td>\n",
       "      <td>37,254,522</td>\n",
       "      <td>5,029,324</td>\n",
       "      <td>3,574,114</td>\n",
       "      <td>897,936</td>\n",
       "      <td>...</td>\n",
       "      <td>814195</td>\n",
       "      <td>6346298</td>\n",
       "      <td>25,146,100</td>\n",
       "      <td>2,763,888</td>\n",
       "      <td>625,741</td>\n",
       "      <td>8,001,041</td>\n",
       "      <td>6,724,545</td>\n",
       "      <td>1,853,011</td>\n",
       "      <td>5,687,289</td>\n",
       "      <td>563,767</td>\n",
       "    </tr>\n",
       "    <tr>\n",
       "      <th>2</th>\n",
       "      <td>Population, percent change - April 1, 2010 (es...</td>\n",
       "      <td>NaN</td>\n",
       "      <td>1.70%</td>\n",
       "      <td>4.50%</td>\n",
       "      <td>8.40%</td>\n",
       "      <td>2.50%</td>\n",
       "      <td>5.40%</td>\n",
       "      <td>10.20%</td>\n",
       "      <td>0.10%</td>\n",
       "      <td>6.00%</td>\n",
       "      <td>...</td>\n",
       "      <td>0.063</td>\n",
       "      <td>0.048</td>\n",
       "      <td>10.80%</td>\n",
       "      <td>10.40%</td>\n",
       "      <td>-0.20%</td>\n",
       "      <td>5.10%</td>\n",
       "      <td>8.40%</td>\n",
       "      <td>-1.20%</td>\n",
       "      <td>1.60%</td>\n",
       "      <td>3.90%</td>\n",
       "    </tr>\n",
       "    <tr>\n",
       "      <th>3</th>\n",
       "      <td>Population, Census, April 1, 2010</td>\n",
       "      <td>NaN</td>\n",
       "      <td>4,779,736</td>\n",
       "      <td>710,231</td>\n",
       "      <td>6,392,017</td>\n",
       "      <td>2,915,918</td>\n",
       "      <td>37,253,956</td>\n",
       "      <td>5,029,196</td>\n",
       "      <td>3,574,097</td>\n",
       "      <td>897,934</td>\n",
       "      <td>...</td>\n",
       "      <td>814180</td>\n",
       "      <td>6346105</td>\n",
       "      <td>25,145,561</td>\n",
       "      <td>2,763,885</td>\n",
       "      <td>625,741</td>\n",
       "      <td>8,001,024</td>\n",
       "      <td>6,724,540</td>\n",
       "      <td>1,852,994</td>\n",
       "      <td>5,686,986</td>\n",
       "      <td>563,626</td>\n",
       "    </tr>\n",
       "    <tr>\n",
       "      <th>4</th>\n",
       "      <td>Persons under 5 years, percent, July 1, 2016, ...</td>\n",
       "      <td>NaN</td>\n",
       "      <td>6.00%</td>\n",
       "      <td>7.30%</td>\n",
       "      <td>6.30%</td>\n",
       "      <td>6.40%</td>\n",
       "      <td>6.30%</td>\n",
       "      <td>6.10%</td>\n",
       "      <td>5.20%</td>\n",
       "      <td>5.80%</td>\n",
       "      <td>...</td>\n",
       "      <td>0.071</td>\n",
       "      <td>0.061</td>\n",
       "      <td>7.20%</td>\n",
       "      <td>8.30%</td>\n",
       "      <td>4.90%</td>\n",
       "      <td>6.10%</td>\n",
       "      <td>6.20%</td>\n",
       "      <td>5.50%</td>\n",
       "      <td>5.80%</td>\n",
       "      <td>6.50%</td>\n",
       "    </tr>\n",
       "  </tbody>\n",
       "</table>\n",
       "<p>5 rows × 52 columns</p>\n",
       "</div>"
      ],
      "text/plain": [
       "                                                Fact Fact Note    Alabama  \\\n",
       "0       Population estimates, July 1, 2016,  (V2016)       NaN  4,863,300   \n",
       "1  Population estimates base, April 1, 2010,  (V2...       NaN  4,780,131   \n",
       "2  Population, percent change - April 1, 2010 (es...       NaN      1.70%   \n",
       "3                  Population, Census, April 1, 2010       NaN  4,779,736   \n",
       "4  Persons under 5 years, percent, July 1, 2016, ...       NaN      6.00%   \n",
       "\n",
       "    Alaska    Arizona   Arkansas  California   Colorado Connecticut Delaware  \\\n",
       "0  741,894  6,931,071  2,988,248  39,250,017  5,540,545   3,576,452  952,065   \n",
       "1  710,249  6,392,301  2,916,025  37,254,522  5,029,324   3,574,114  897,936   \n",
       "2    4.50%      8.40%      2.50%       5.40%     10.20%       0.10%    6.00%   \n",
       "3  710,231  6,392,017  2,915,918  37,253,956  5,029,196   3,574,097  897,934   \n",
       "4    7.30%      6.30%      6.40%       6.30%      6.10%       5.20%    5.80%   \n",
       "\n",
       "   ... South Dakota Tennessee       Texas       Utah  Vermont   Virginia  \\\n",
       "0  ...       865454   6651194  27,862,596  3,051,217  624,594  8,411,808   \n",
       "1  ...       814195   6346298  25,146,100  2,763,888  625,741  8,001,041   \n",
       "2  ...        0.063     0.048      10.80%     10.40%   -0.20%      5.10%   \n",
       "3  ...       814180   6346105  25,145,561  2,763,885  625,741  8,001,024   \n",
       "4  ...        0.071     0.061       7.20%      8.30%    4.90%      6.10%   \n",
       "\n",
       "  Washington West Virginia  Wisconsin  Wyoming  \n",
       "0  7,288,000     1,831,102  5,778,708  585,501  \n",
       "1  6,724,545     1,853,011  5,687,289  563,767  \n",
       "2      8.40%        -1.20%      1.60%    3.90%  \n",
       "3  6,724,540     1,852,994  5,686,986  563,626  \n",
       "4      6.20%         5.50%      5.80%    6.50%  \n",
       "\n",
       "[5 rows x 52 columns]"
      ]
     },
     "execution_count": 9,
     "metadata": {},
     "output_type": "execute_result"
    }
   ],
   "source": [
    "df_census.head()"
   ]
  },
  {
   "cell_type": "code",
   "execution_count": 10,
   "metadata": {},
   "outputs": [
    {
     "data": {
      "text/plain": [
       "Fact               5\n",
       "Fact Note         57\n",
       "Alabama           20\n",
       "Alaska            20\n",
       "Arizona           20\n",
       "Arkansas          20\n",
       "California        20\n",
       "Colorado          20\n",
       "Connecticut       20\n",
       "Delaware          20\n",
       "Florida           20\n",
       "Georgia           20\n",
       "Hawaii            20\n",
       "Idaho             20\n",
       "Illinois          20\n",
       "Indiana           20\n",
       "Iowa              20\n",
       "Kansas            20\n",
       "Kentucky          20\n",
       "Louisiana         20\n",
       "Maine             20\n",
       "Maryland          20\n",
       "Massachusetts     20\n",
       "Michigan          20\n",
       "Minnesota         20\n",
       "Mississippi       20\n",
       "Missouri          20\n",
       "Montana           20\n",
       "Nebraska          20\n",
       "Nevada            20\n",
       "New Hampshire     20\n",
       "New Jersey        20\n",
       "New Mexico        20\n",
       "New York          20\n",
       "North Carolina    20\n",
       "North Dakota      20\n",
       "Ohio              20\n",
       "Oklahoma          20\n",
       "Oregon            20\n",
       "Pennsylvania      20\n",
       "Rhode Island      20\n",
       "South Carolina    20\n",
       "South Dakota      20\n",
       "Tennessee         20\n",
       "Texas             20\n",
       "Utah              20\n",
       "Vermont           20\n",
       "Virginia          20\n",
       "Washington        20\n",
       "West Virginia     20\n",
       "Wisconsin         20\n",
       "Wyoming           20\n",
       "dtype: int64"
      ]
     },
     "execution_count": 10,
     "metadata": {},
     "output_type": "execute_result"
    }
   ],
   "source": [
    "df_census.isnull().sum()"
   ]
  },
  {
   "cell_type": "markdown",
   "metadata": {},
   "source": [
    "The census dataset contains information about all states in the USA. It details some facts about the states. \n",
    "For example, the dataset contains information of poor people, gender of owners of companies, and so on."
   ]
  },
  {
   "cell_type": "markdown",
   "metadata": {},
   "source": [
    "\n",
    "## Data Cleaning"
   ]
  },
  {
   "cell_type": "markdown",
   "metadata": {
    "collapsed": true
   },
   "source": [
    "After discussing the structure of the data and any problems that need to be cleaned,\n",
    "we perform those cleaning steps in the second part of this section.\n",
    "\n",
    "The census data is quite dirty. While most of the columns may not be needed in this study,\n",
    "there is need to remove certain cells altogether"
   ]
  },
  {
   "cell_type": "markdown",
   "metadata": {},
   "source": [
    "The 'Fact Note' attribute of the census dataset should be removed, \n",
    "since it does not provide any additional relevance for this analysis."
   ]
  },
  {
   "cell_type": "markdown",
   "metadata": {},
   "source": [
    "Delete the 'Fact Note' feature from the dataset"
   ]
  },
  {
   "cell_type": "code",
   "execution_count": 11,
   "metadata": {},
   "outputs": [],
   "source": [
    "df_census.drop(columns='Fact Note', inplace=True)"
   ]
  },
  {
   "cell_type": "markdown",
   "metadata": {},
   "source": [
    "Check the new data.\n",
    "It can be observed that the states are the attributes/features in the census dataset. Several insights can be derived from it, inlcuding the average population in the country, population growth between 2010 and 2016, and so on."
   ]
  },
  {
   "cell_type": "code",
   "execution_count": 12,
   "metadata": {},
   "outputs": [
    {
     "data": {
      "text/html": [
       "<div>\n",
       "<style scoped>\n",
       "    .dataframe tbody tr th:only-of-type {\n",
       "        vertical-align: middle;\n",
       "    }\n",
       "\n",
       "    .dataframe tbody tr th {\n",
       "        vertical-align: top;\n",
       "    }\n",
       "\n",
       "    .dataframe thead th {\n",
       "        text-align: right;\n",
       "    }\n",
       "</style>\n",
       "<table border=\"1\" class=\"dataframe\">\n",
       "  <thead>\n",
       "    <tr style=\"text-align: right;\">\n",
       "      <th></th>\n",
       "      <th>Fact</th>\n",
       "      <th>Alabama</th>\n",
       "      <th>Alaska</th>\n",
       "      <th>Arizona</th>\n",
       "      <th>Arkansas</th>\n",
       "      <th>California</th>\n",
       "      <th>Colorado</th>\n",
       "      <th>Connecticut</th>\n",
       "      <th>Delaware</th>\n",
       "      <th>Florida</th>\n",
       "      <th>...</th>\n",
       "      <th>South Dakota</th>\n",
       "      <th>Tennessee</th>\n",
       "      <th>Texas</th>\n",
       "      <th>Utah</th>\n",
       "      <th>Vermont</th>\n",
       "      <th>Virginia</th>\n",
       "      <th>Washington</th>\n",
       "      <th>West Virginia</th>\n",
       "      <th>Wisconsin</th>\n",
       "      <th>Wyoming</th>\n",
       "    </tr>\n",
       "  </thead>\n",
       "  <tbody>\n",
       "    <tr>\n",
       "      <th>0</th>\n",
       "      <td>Population estimates, July 1, 2016,  (V2016)</td>\n",
       "      <td>4,863,300</td>\n",
       "      <td>741,894</td>\n",
       "      <td>6,931,071</td>\n",
       "      <td>2,988,248</td>\n",
       "      <td>39,250,017</td>\n",
       "      <td>5,540,545</td>\n",
       "      <td>3,576,452</td>\n",
       "      <td>952,065</td>\n",
       "      <td>20,612,439</td>\n",
       "      <td>...</td>\n",
       "      <td>865454</td>\n",
       "      <td>6651194</td>\n",
       "      <td>27,862,596</td>\n",
       "      <td>3,051,217</td>\n",
       "      <td>624,594</td>\n",
       "      <td>8,411,808</td>\n",
       "      <td>7,288,000</td>\n",
       "      <td>1,831,102</td>\n",
       "      <td>5,778,708</td>\n",
       "      <td>585,501</td>\n",
       "    </tr>\n",
       "    <tr>\n",
       "      <th>1</th>\n",
       "      <td>Population estimates base, April 1, 2010,  (V2...</td>\n",
       "      <td>4,780,131</td>\n",
       "      <td>710,249</td>\n",
       "      <td>6,392,301</td>\n",
       "      <td>2,916,025</td>\n",
       "      <td>37,254,522</td>\n",
       "      <td>5,029,324</td>\n",
       "      <td>3,574,114</td>\n",
       "      <td>897,936</td>\n",
       "      <td>18,804,592</td>\n",
       "      <td>...</td>\n",
       "      <td>814195</td>\n",
       "      <td>6346298</td>\n",
       "      <td>25,146,100</td>\n",
       "      <td>2,763,888</td>\n",
       "      <td>625,741</td>\n",
       "      <td>8,001,041</td>\n",
       "      <td>6,724,545</td>\n",
       "      <td>1,853,011</td>\n",
       "      <td>5,687,289</td>\n",
       "      <td>563,767</td>\n",
       "    </tr>\n",
       "    <tr>\n",
       "      <th>2</th>\n",
       "      <td>Population, percent change - April 1, 2010 (es...</td>\n",
       "      <td>1.70%</td>\n",
       "      <td>4.50%</td>\n",
       "      <td>8.40%</td>\n",
       "      <td>2.50%</td>\n",
       "      <td>5.40%</td>\n",
       "      <td>10.20%</td>\n",
       "      <td>0.10%</td>\n",
       "      <td>6.00%</td>\n",
       "      <td>9.60%</td>\n",
       "      <td>...</td>\n",
       "      <td>0.063</td>\n",
       "      <td>0.048</td>\n",
       "      <td>10.80%</td>\n",
       "      <td>10.40%</td>\n",
       "      <td>-0.20%</td>\n",
       "      <td>5.10%</td>\n",
       "      <td>8.40%</td>\n",
       "      <td>-1.20%</td>\n",
       "      <td>1.60%</td>\n",
       "      <td>3.90%</td>\n",
       "    </tr>\n",
       "    <tr>\n",
       "      <th>3</th>\n",
       "      <td>Population, Census, April 1, 2010</td>\n",
       "      <td>4,779,736</td>\n",
       "      <td>710,231</td>\n",
       "      <td>6,392,017</td>\n",
       "      <td>2,915,918</td>\n",
       "      <td>37,253,956</td>\n",
       "      <td>5,029,196</td>\n",
       "      <td>3,574,097</td>\n",
       "      <td>897,934</td>\n",
       "      <td>18,801,310</td>\n",
       "      <td>...</td>\n",
       "      <td>814180</td>\n",
       "      <td>6346105</td>\n",
       "      <td>25,145,561</td>\n",
       "      <td>2,763,885</td>\n",
       "      <td>625,741</td>\n",
       "      <td>8,001,024</td>\n",
       "      <td>6,724,540</td>\n",
       "      <td>1,852,994</td>\n",
       "      <td>5,686,986</td>\n",
       "      <td>563,626</td>\n",
       "    </tr>\n",
       "    <tr>\n",
       "      <th>4</th>\n",
       "      <td>Persons under 5 years, percent, July 1, 2016, ...</td>\n",
       "      <td>6.00%</td>\n",
       "      <td>7.30%</td>\n",
       "      <td>6.30%</td>\n",
       "      <td>6.40%</td>\n",
       "      <td>6.30%</td>\n",
       "      <td>6.10%</td>\n",
       "      <td>5.20%</td>\n",
       "      <td>5.80%</td>\n",
       "      <td>5.50%</td>\n",
       "      <td>...</td>\n",
       "      <td>0.071</td>\n",
       "      <td>0.061</td>\n",
       "      <td>7.20%</td>\n",
       "      <td>8.30%</td>\n",
       "      <td>4.90%</td>\n",
       "      <td>6.10%</td>\n",
       "      <td>6.20%</td>\n",
       "      <td>5.50%</td>\n",
       "      <td>5.80%</td>\n",
       "      <td>6.50%</td>\n",
       "    </tr>\n",
       "  </tbody>\n",
       "</table>\n",
       "<p>5 rows × 51 columns</p>\n",
       "</div>"
      ],
      "text/plain": [
       "                                                Fact    Alabama   Alaska  \\\n",
       "0       Population estimates, July 1, 2016,  (V2016)  4,863,300  741,894   \n",
       "1  Population estimates base, April 1, 2010,  (V2...  4,780,131  710,249   \n",
       "2  Population, percent change - April 1, 2010 (es...      1.70%    4.50%   \n",
       "3                  Population, Census, April 1, 2010  4,779,736  710,231   \n",
       "4  Persons under 5 years, percent, July 1, 2016, ...      6.00%    7.30%   \n",
       "\n",
       "     Arizona   Arkansas  California   Colorado Connecticut Delaware  \\\n",
       "0  6,931,071  2,988,248  39,250,017  5,540,545   3,576,452  952,065   \n",
       "1  6,392,301  2,916,025  37,254,522  5,029,324   3,574,114  897,936   \n",
       "2      8.40%      2.50%       5.40%     10.20%       0.10%    6.00%   \n",
       "3  6,392,017  2,915,918  37,253,956  5,029,196   3,574,097  897,934   \n",
       "4      6.30%      6.40%       6.30%      6.10%       5.20%    5.80%   \n",
       "\n",
       "      Florida  ... South Dakota Tennessee       Texas       Utah  Vermont  \\\n",
       "0  20,612,439  ...       865454   6651194  27,862,596  3,051,217  624,594   \n",
       "1  18,804,592  ...       814195   6346298  25,146,100  2,763,888  625,741   \n",
       "2       9.60%  ...        0.063     0.048      10.80%     10.40%   -0.20%   \n",
       "3  18,801,310  ...       814180   6346105  25,145,561  2,763,885  625,741   \n",
       "4       5.50%  ...        0.071     0.061       7.20%      8.30%    4.90%   \n",
       "\n",
       "    Virginia Washington West Virginia  Wisconsin  Wyoming  \n",
       "0  8,411,808  7,288,000     1,831,102  5,778,708  585,501  \n",
       "1  8,001,041  6,724,545     1,853,011  5,687,289  563,767  \n",
       "2      5.10%      8.40%        -1.20%      1.60%    3.90%  \n",
       "3  8,001,024  6,724,540     1,852,994  5,686,986  563,626  \n",
       "4      6.10%      6.20%         5.50%      5.80%    6.50%  \n",
       "\n",
       "[5 rows x 51 columns]"
      ]
     },
     "execution_count": 12,
     "metadata": {},
     "output_type": "execute_result"
    }
   ],
   "source": [
    "df_census.head()"
   ]
  },
  {
   "cell_type": "markdown",
   "metadata": {},
   "source": [
    "Slice and retain part of the dataset with meaningful data"
   ]
  },
  {
   "cell_type": "code",
   "execution_count": 13,
   "metadata": {},
   "outputs": [],
   "source": [
    "df_census = df_census.iloc[:65, :]"
   ]
  },
  {
   "cell_type": "markdown",
   "metadata": {},
   "source": [
    "Check the structure of the sliced dataset"
   ]
  },
  {
   "cell_type": "code",
   "execution_count": 14,
   "metadata": {},
   "outputs": [
    {
     "data": {
      "text/plain": [
       "(65, 51)"
      ]
     },
     "execution_count": 14,
     "metadata": {},
     "output_type": "execute_result"
    }
   ],
   "source": [
    "df_census.shape"
   ]
  },
  {
   "cell_type": "code",
   "execution_count": 15,
   "metadata": {},
   "outputs": [
    {
     "data": {
      "text/plain": [
       "Fact              0\n",
       "Alabama           0\n",
       "Alaska            0\n",
       "Arizona           0\n",
       "Arkansas          0\n",
       "California        0\n",
       "Colorado          0\n",
       "Connecticut       0\n",
       "Delaware          0\n",
       "Florida           0\n",
       "Georgia           0\n",
       "Hawaii            0\n",
       "Idaho             0\n",
       "Illinois          0\n",
       "Indiana           0\n",
       "Iowa              0\n",
       "Kansas            0\n",
       "Kentucky          0\n",
       "Louisiana         0\n",
       "Maine             0\n",
       "Maryland          0\n",
       "Massachusetts     0\n",
       "Michigan          0\n",
       "Minnesota         0\n",
       "Mississippi       0\n",
       "Missouri          0\n",
       "Montana           0\n",
       "Nebraska          0\n",
       "Nevada            0\n",
       "New Hampshire     0\n",
       "New Jersey        0\n",
       "New Mexico        0\n",
       "New York          0\n",
       "North Carolina    0\n",
       "North Dakota      0\n",
       "Ohio              0\n",
       "Oklahoma          0\n",
       "Oregon            0\n",
       "Pennsylvania      0\n",
       "Rhode Island      0\n",
       "South Carolina    0\n",
       "South Dakota      0\n",
       "Tennessee         0\n",
       "Texas             0\n",
       "Utah              0\n",
       "Vermont           0\n",
       "Virginia          0\n",
       "Washington        0\n",
       "West Virginia     0\n",
       "Wisconsin         0\n",
       "Wyoming           0\n",
       "dtype: int64"
      ]
     },
     "execution_count": 15,
     "metadata": {},
     "output_type": "execute_result"
    }
   ],
   "source": [
    "#Check to see if any attribute has empty/null cells        \n",
    "df_census.isnull().sum()"
   ]
  },
  {
   "cell_type": "code",
   "execution_count": 16,
   "metadata": {},
   "outputs": [
    {
     "data": {
      "text/html": [
       "<div>\n",
       "<style scoped>\n",
       "    .dataframe tbody tr th:only-of-type {\n",
       "        vertical-align: middle;\n",
       "    }\n",
       "\n",
       "    .dataframe tbody tr th {\n",
       "        vertical-align: top;\n",
       "    }\n",
       "\n",
       "    .dataframe thead th {\n",
       "        text-align: right;\n",
       "    }\n",
       "</style>\n",
       "<table border=\"1\" class=\"dataframe\">\n",
       "  <thead>\n",
       "    <tr style=\"text-align: right;\">\n",
       "      <th></th>\n",
       "      <th>Fact</th>\n",
       "      <th>Alabama</th>\n",
       "      <th>Alaska</th>\n",
       "      <th>Arizona</th>\n",
       "      <th>Arkansas</th>\n",
       "      <th>California</th>\n",
       "      <th>Colorado</th>\n",
       "      <th>Connecticut</th>\n",
       "      <th>Delaware</th>\n",
       "      <th>Florida</th>\n",
       "      <th>...</th>\n",
       "      <th>South Dakota</th>\n",
       "      <th>Tennessee</th>\n",
       "      <th>Texas</th>\n",
       "      <th>Utah</th>\n",
       "      <th>Vermont</th>\n",
       "      <th>Virginia</th>\n",
       "      <th>Washington</th>\n",
       "      <th>West Virginia</th>\n",
       "      <th>Wisconsin</th>\n",
       "      <th>Wyoming</th>\n",
       "    </tr>\n",
       "  </thead>\n",
       "  <tbody>\n",
       "    <tr>\n",
       "      <th>60</th>\n",
       "      <td>Veteran-owned firms, 2012</td>\n",
       "      <td>41,943</td>\n",
       "      <td>7,953</td>\n",
       "      <td>46,780</td>\n",
       "      <td>25,915</td>\n",
       "      <td>252,377</td>\n",
       "      <td>51,722</td>\n",
       "      <td>31,056</td>\n",
       "      <td>7,206</td>\n",
       "      <td>185,756</td>\n",
       "      <td>...</td>\n",
       "      <td>8604</td>\n",
       "      <td>59379</td>\n",
       "      <td>213,590</td>\n",
       "      <td>18,754</td>\n",
       "      <td>8,237</td>\n",
       "      <td>76,434</td>\n",
       "      <td>49,331</td>\n",
       "      <td>12,912</td>\n",
       "      <td>39,830</td>\n",
       "      <td>6,470</td>\n",
       "    </tr>\n",
       "    <tr>\n",
       "      <th>61</th>\n",
       "      <td>Nonveteran-owned firms, 2012</td>\n",
       "      <td>316,984</td>\n",
       "      <td>56,091</td>\n",
       "      <td>427,582</td>\n",
       "      <td>192,988</td>\n",
       "      <td>3,176,341</td>\n",
       "      <td>469,524</td>\n",
       "      <td>281,182</td>\n",
       "      <td>60,318</td>\n",
       "      <td>1,846,686</td>\n",
       "      <td>...</td>\n",
       "      <td>66219</td>\n",
       "      <td>469392</td>\n",
       "      <td>2,057,218</td>\n",
       "      <td>219,807</td>\n",
       "      <td>63,317</td>\n",
       "      <td>548,439</td>\n",
       "      <td>461,401</td>\n",
       "      <td>94,960</td>\n",
       "      <td>370,755</td>\n",
       "      <td>51,353</td>\n",
       "    </tr>\n",
       "    <tr>\n",
       "      <th>62</th>\n",
       "      <td>Population per square mile, 2010</td>\n",
       "      <td>94.4</td>\n",
       "      <td>1.2</td>\n",
       "      <td>56.3</td>\n",
       "      <td>56</td>\n",
       "      <td>239.1</td>\n",
       "      <td>48.5</td>\n",
       "      <td>738.1</td>\n",
       "      <td>460.8</td>\n",
       "      <td>350.6</td>\n",
       "      <td>...</td>\n",
       "      <td>10.7</td>\n",
       "      <td>153.9</td>\n",
       "      <td>96.3</td>\n",
       "      <td>33.6</td>\n",
       "      <td>67.9</td>\n",
       "      <td>202.6</td>\n",
       "      <td>101.2</td>\n",
       "      <td>77.1</td>\n",
       "      <td>105</td>\n",
       "      <td>5.8</td>\n",
       "    </tr>\n",
       "    <tr>\n",
       "      <th>63</th>\n",
       "      <td>Land area in square miles, 2010</td>\n",
       "      <td>50,645.33</td>\n",
       "      <td>570,640.95</td>\n",
       "      <td>113,594.08</td>\n",
       "      <td>52,035.48</td>\n",
       "      <td>155,779.22</td>\n",
       "      <td>103,641.89</td>\n",
       "      <td>4,842.36</td>\n",
       "      <td>1,948.54</td>\n",
       "      <td>53,624.76</td>\n",
       "      <td>...</td>\n",
       "      <td>75811</td>\n",
       "      <td>41234.9</td>\n",
       "      <td>261,231.71</td>\n",
       "      <td>82,169.62</td>\n",
       "      <td>9,216.66</td>\n",
       "      <td>39,490.09</td>\n",
       "      <td>66,455.52</td>\n",
       "      <td>24,038.21</td>\n",
       "      <td>54,157.80</td>\n",
       "      <td>97,093.14</td>\n",
       "    </tr>\n",
       "    <tr>\n",
       "      <th>64</th>\n",
       "      <td>FIPS Code</td>\n",
       "      <td>\"01\"</td>\n",
       "      <td>\"02\"</td>\n",
       "      <td>\"04\"</td>\n",
       "      <td>\"05\"</td>\n",
       "      <td>\"06\"</td>\n",
       "      <td>\"08\"</td>\n",
       "      <td>\"09\"</td>\n",
       "      <td>\"10\"</td>\n",
       "      <td>\"12\"</td>\n",
       "      <td>...</td>\n",
       "      <td>\"46\"</td>\n",
       "      <td>\"47\"</td>\n",
       "      <td>\"48\"</td>\n",
       "      <td>\"49\"</td>\n",
       "      <td>\"50\"</td>\n",
       "      <td>\"51\"</td>\n",
       "      <td>\"53\"</td>\n",
       "      <td>\"54\"</td>\n",
       "      <td>\"55\"</td>\n",
       "      <td>\"56\"</td>\n",
       "    </tr>\n",
       "  </tbody>\n",
       "</table>\n",
       "<p>5 rows × 51 columns</p>\n",
       "</div>"
      ],
      "text/plain": [
       "                                Fact    Alabama      Alaska     Arizona  \\\n",
       "60         Veteran-owned firms, 2012     41,943       7,953      46,780   \n",
       "61      Nonveteran-owned firms, 2012    316,984      56,091     427,582   \n",
       "62  Population per square mile, 2010       94.4         1.2        56.3   \n",
       "63   Land area in square miles, 2010  50,645.33  570,640.95  113,594.08   \n",
       "64                         FIPS Code       \"01\"        \"02\"        \"04\"   \n",
       "\n",
       "     Arkansas  California    Colorado Connecticut  Delaware    Florida  ...  \\\n",
       "60     25,915     252,377      51,722      31,056     7,206    185,756  ...   \n",
       "61    192,988   3,176,341     469,524     281,182    60,318  1,846,686  ...   \n",
       "62         56       239.1        48.5       738.1     460.8      350.6  ...   \n",
       "63  52,035.48  155,779.22  103,641.89    4,842.36  1,948.54  53,624.76  ...   \n",
       "64       \"05\"        \"06\"        \"08\"        \"09\"      \"10\"       \"12\"  ...   \n",
       "\n",
       "   South Dakota Tennessee       Texas       Utah   Vermont   Virginia  \\\n",
       "60         8604     59379     213,590     18,754     8,237     76,434   \n",
       "61        66219    469392   2,057,218    219,807    63,317    548,439   \n",
       "62         10.7     153.9        96.3       33.6      67.9      202.6   \n",
       "63        75811   41234.9  261,231.71  82,169.62  9,216.66  39,490.09   \n",
       "64         \"46\"      \"47\"        \"48\"       \"49\"      \"50\"       \"51\"   \n",
       "\n",
       "   Washington West Virginia  Wisconsin    Wyoming  \n",
       "60     49,331        12,912     39,830      6,470  \n",
       "61    461,401        94,960    370,755     51,353  \n",
       "62      101.2          77.1        105        5.8  \n",
       "63  66,455.52     24,038.21  54,157.80  97,093.14  \n",
       "64       \"53\"          \"54\"       \"55\"       \"56\"  \n",
       "\n",
       "[5 rows x 51 columns]"
      ]
     },
     "execution_count": 16,
     "metadata": {},
     "output_type": "execute_result"
    }
   ],
   "source": [
    "df_census.tail()"
   ]
  },
  {
   "cell_type": "markdown",
   "metadata": {},
   "source": [
    "We can agree that the Census dataset is now suitable for further manipulations"
   ]
  },
  {
   "cell_type": "markdown",
   "metadata": {},
   "source": [
    "Further checks is to be carried out on the Gun dataset to understand its nature"
   ]
  },
  {
   "cell_type": "code",
   "execution_count": 17,
   "metadata": {},
   "outputs": [
    {
     "data": {
      "text/plain": [
       "(12485, 27)"
      ]
     },
     "execution_count": 17,
     "metadata": {},
     "output_type": "execute_result"
    }
   ],
   "source": [
    "df_gun.shape  "
   ]
  },
  {
   "cell_type": "code",
   "execution_count": 18,
   "metadata": {},
   "outputs": [
    {
     "data": {
      "text/plain": [
       "month                            0\n",
       "state                            0\n",
       "permit                          24\n",
       "permit_recheck               11385\n",
       "handgun                         20\n",
       "long_gun                        19\n",
       "other                         6985\n",
       "multiple                         0\n",
       "admin                           23\n",
       "prepawn_handgun               1943\n",
       "prepawn_long_gun              1945\n",
       "prepawn_other                 7370\n",
       "redemption_handgun            1940\n",
       "redemption_long_gun           1941\n",
       "redemption_other              7370\n",
       "returned_handgun             10285\n",
       "returned_long_gun            10340\n",
       "returned_other               10670\n",
       "rentals_handgun              11495\n",
       "rentals_long_gun             11660\n",
       "private_sale_handgun          9735\n",
       "private_sale_long_gun         9735\n",
       "private_sale_other            9735\n",
       "return_to_seller_handgun     10010\n",
       "return_to_seller_long_gun     9735\n",
       "return_to_seller_other       10230\n",
       "totals                           0\n",
       "dtype: int64"
      ]
     },
     "execution_count": 18,
     "metadata": {},
     "output_type": "execute_result"
    }
   ],
   "source": [
    "df_gun.isnull().sum()"
   ]
  },
  {
   "cell_type": "markdown",
   "metadata": {},
   "source": [
    "We notice so much inconsistencies in the Gun dataset. <p>\n",
    "First, we drop rows with missing data  <p>\n",
    "Looking at the dataset, notice that only few of the columns are relevant to our investigation <p>\n",
    "The relevant columns are sliced for further analysis"
   ]
  },
  {
   "cell_type": "code",
   "execution_count": 19,
   "metadata": {},
   "outputs": [],
   "source": [
    "df_gun=df_gun.iloc[:, :8]"
   ]
  },
  {
   "cell_type": "markdown",
   "metadata": {},
   "source": [
    "We re-examine the dataframe for structure and null values"
   ]
  },
  {
   "cell_type": "code",
   "execution_count": 20,
   "metadata": {},
   "outputs": [
    {
     "data": {
      "text/plain": [
       "(12485, 8)"
      ]
     },
     "execution_count": 20,
     "metadata": {},
     "output_type": "execute_result"
    }
   ],
   "source": [
    "df_gun.shape"
   ]
  },
  {
   "cell_type": "markdown",
   "metadata": {},
   "source": [
    "Take note that the data frame had (12485, 27)\n",
    "but after the slicing, we have (12485, 8); only the features relevant for this study are retained."
   ]
  },
  {
   "cell_type": "code",
   "execution_count": 21,
   "metadata": {},
   "outputs": [
    {
     "data": {
      "text/html": [
       "<div>\n",
       "<style scoped>\n",
       "    .dataframe tbody tr th:only-of-type {\n",
       "        vertical-align: middle;\n",
       "    }\n",
       "\n",
       "    .dataframe tbody tr th {\n",
       "        vertical-align: top;\n",
       "    }\n",
       "\n",
       "    .dataframe thead th {\n",
       "        text-align: right;\n",
       "    }\n",
       "</style>\n",
       "<table border=\"1\" class=\"dataframe\">\n",
       "  <thead>\n",
       "    <tr style=\"text-align: right;\">\n",
       "      <th></th>\n",
       "      <th>month</th>\n",
       "      <th>state</th>\n",
       "      <th>permit</th>\n",
       "      <th>permit_recheck</th>\n",
       "      <th>handgun</th>\n",
       "      <th>long_gun</th>\n",
       "      <th>other</th>\n",
       "      <th>multiple</th>\n",
       "    </tr>\n",
       "  </thead>\n",
       "  <tbody>\n",
       "    <tr>\n",
       "      <th>12475</th>\n",
       "      <td>1998-11</td>\n",
       "      <td>Tennessee</td>\n",
       "      <td>0.0</td>\n",
       "      <td>NaN</td>\n",
       "      <td>19.0</td>\n",
       "      <td>85.0</td>\n",
       "      <td>NaN</td>\n",
       "      <td>3.0</td>\n",
       "    </tr>\n",
       "    <tr>\n",
       "      <th>12476</th>\n",
       "      <td>1998-11</td>\n",
       "      <td>Texas</td>\n",
       "      <td>0.0</td>\n",
       "      <td>NaN</td>\n",
       "      <td>1384.0</td>\n",
       "      <td>1349.0</td>\n",
       "      <td>NaN</td>\n",
       "      <td>60.0</td>\n",
       "    </tr>\n",
       "    <tr>\n",
       "      <th>12477</th>\n",
       "      <td>1998-11</td>\n",
       "      <td>Utah</td>\n",
       "      <td>0.0</td>\n",
       "      <td>NaN</td>\n",
       "      <td>98.0</td>\n",
       "      <td>169.0</td>\n",
       "      <td>NaN</td>\n",
       "      <td>0.0</td>\n",
       "    </tr>\n",
       "    <tr>\n",
       "      <th>12478</th>\n",
       "      <td>1998-11</td>\n",
       "      <td>Vermont</td>\n",
       "      <td>0.0</td>\n",
       "      <td>NaN</td>\n",
       "      <td>23.0</td>\n",
       "      <td>35.0</td>\n",
       "      <td>NaN</td>\n",
       "      <td>0.0</td>\n",
       "    </tr>\n",
       "    <tr>\n",
       "      <th>12479</th>\n",
       "      <td>1998-11</td>\n",
       "      <td>Virgin Islands</td>\n",
       "      <td>0.0</td>\n",
       "      <td>NaN</td>\n",
       "      <td>0.0</td>\n",
       "      <td>0.0</td>\n",
       "      <td>NaN</td>\n",
       "      <td>0.0</td>\n",
       "    </tr>\n",
       "    <tr>\n",
       "      <th>12480</th>\n",
       "      <td>1998-11</td>\n",
       "      <td>Virginia</td>\n",
       "      <td>0.0</td>\n",
       "      <td>NaN</td>\n",
       "      <td>14.0</td>\n",
       "      <td>2.0</td>\n",
       "      <td>NaN</td>\n",
       "      <td>8.0</td>\n",
       "    </tr>\n",
       "    <tr>\n",
       "      <th>12481</th>\n",
       "      <td>1998-11</td>\n",
       "      <td>Washington</td>\n",
       "      <td>1.0</td>\n",
       "      <td>NaN</td>\n",
       "      <td>65.0</td>\n",
       "      <td>286.0</td>\n",
       "      <td>NaN</td>\n",
       "      <td>8.0</td>\n",
       "    </tr>\n",
       "    <tr>\n",
       "      <th>12482</th>\n",
       "      <td>1998-11</td>\n",
       "      <td>West Virginia</td>\n",
       "      <td>3.0</td>\n",
       "      <td>NaN</td>\n",
       "      <td>149.0</td>\n",
       "      <td>251.0</td>\n",
       "      <td>NaN</td>\n",
       "      <td>5.0</td>\n",
       "    </tr>\n",
       "    <tr>\n",
       "      <th>12483</th>\n",
       "      <td>1998-11</td>\n",
       "      <td>Wisconsin</td>\n",
       "      <td>0.0</td>\n",
       "      <td>NaN</td>\n",
       "      <td>25.0</td>\n",
       "      <td>214.0</td>\n",
       "      <td>NaN</td>\n",
       "      <td>2.0</td>\n",
       "    </tr>\n",
       "    <tr>\n",
       "      <th>12484</th>\n",
       "      <td>1998-11</td>\n",
       "      <td>Wyoming</td>\n",
       "      <td>8.0</td>\n",
       "      <td>NaN</td>\n",
       "      <td>45.0</td>\n",
       "      <td>49.0</td>\n",
       "      <td>NaN</td>\n",
       "      <td>5.0</td>\n",
       "    </tr>\n",
       "  </tbody>\n",
       "</table>\n",
       "</div>"
      ],
      "text/plain": [
       "         month           state  permit  permit_recheck  handgun  long_gun  \\\n",
       "12475  1998-11       Tennessee     0.0             NaN     19.0      85.0   \n",
       "12476  1998-11           Texas     0.0             NaN   1384.0    1349.0   \n",
       "12477  1998-11            Utah     0.0             NaN     98.0     169.0   \n",
       "12478  1998-11         Vermont     0.0             NaN     23.0      35.0   \n",
       "12479  1998-11  Virgin Islands     0.0             NaN      0.0       0.0   \n",
       "12480  1998-11        Virginia     0.0             NaN     14.0       2.0   \n",
       "12481  1998-11      Washington     1.0             NaN     65.0     286.0   \n",
       "12482  1998-11   West Virginia     3.0             NaN    149.0     251.0   \n",
       "12483  1998-11       Wisconsin     0.0             NaN     25.0     214.0   \n",
       "12484  1998-11         Wyoming     8.0             NaN     45.0      49.0   \n",
       "\n",
       "       other  multiple  \n",
       "12475    NaN       3.0  \n",
       "12476    NaN      60.0  \n",
       "12477    NaN       0.0  \n",
       "12478    NaN       0.0  \n",
       "12479    NaN       0.0  \n",
       "12480    NaN       8.0  \n",
       "12481    NaN       8.0  \n",
       "12482    NaN       5.0  \n",
       "12483    NaN       2.0  \n",
       "12484    NaN       5.0  "
      ]
     },
     "execution_count": 21,
     "metadata": {},
     "output_type": "execute_result"
    }
   ],
   "source": [
    "df_gun.tail(10)"
   ]
  },
  {
   "cell_type": "markdown",
   "metadata": {},
   "source": [
    "We notice that 'permit_recheck' and 'other' have too many empty cells, with negligible information <p>\n",
    "\n",
    "Removing the null cells will impact negatively on the insights to be derived #Hence, we drop the columns altogether"
   ]
  },
  {
   "cell_type": "code",
   "execution_count": 22,
   "metadata": {},
   "outputs": [
    {
     "data": {
      "text/plain": [
       "month                 0\n",
       "state                 0\n",
       "permit               24\n",
       "permit_recheck    11385\n",
       "handgun              20\n",
       "long_gun             19\n",
       "other              6985\n",
       "multiple              0\n",
       "dtype: int64"
      ]
     },
     "execution_count": 22,
     "metadata": {},
     "output_type": "execute_result"
    }
   ],
   "source": [
    "df_gun.isnull().sum()"
   ]
  },
  {
   "cell_type": "code",
   "execution_count": 23,
   "metadata": {},
   "outputs": [],
   "source": [
    "df_gun.drop(columns=['permit_recheck', 'other'], inplace=True)"
   ]
  },
  {
   "cell_type": "markdown",
   "metadata": {},
   "source": [
    "Recheck to be sure the irrelevant columns have been dropped"
   ]
  },
  {
   "cell_type": "code",
   "execution_count": 24,
   "metadata": {},
   "outputs": [
    {
     "data": {
      "text/plain": [
       "(12485, 6)"
      ]
     },
     "execution_count": 24,
     "metadata": {},
     "output_type": "execute_result"
    }
   ],
   "source": [
    "df_gun.shape"
   ]
  },
  {
   "cell_type": "code",
   "execution_count": 25,
   "metadata": {},
   "outputs": [
    {
     "data": {
      "text/plain": [
       "month        0\n",
       "state        0\n",
       "permit      24\n",
       "handgun     20\n",
       "long_gun    19\n",
       "multiple     0\n",
       "dtype: int64"
      ]
     },
     "execution_count": 25,
     "metadata": {},
     "output_type": "execute_result"
    }
   ],
   "source": [
    "df_gun.isnull().sum()"
   ]
  },
  {
   "cell_type": "markdown",
   "metadata": {},
   "source": [
    "Identify rows where there are null cells for 'permit', 'handgun', and 'long_gun' <p>\n",
    "This is necessary to preserve relevant information as much as possible.<p>\n",
    "For example, deleting all null entries for 'permit', \n",
    "will lead to loss of four (4) information in 'handgun' and five(5) in 'long_gun'"
   ]
  },
  {
   "cell_type": "code",
   "execution_count": 26,
   "metadata": {},
   "outputs": [],
   "source": [
    "df_drop_rows = df_gun.loc[df_gun['permit'].isnull() & df_gun['handgun'].isnull() & df_gun['long_gun'].isnull()].index"
   ]
  },
  {
   "cell_type": "code",
   "execution_count": 27,
   "metadata": {},
   "outputs": [],
   "source": [
    "df_gun.drop(df_drop_rows, inplace=True)"
   ]
  },
  {
   "cell_type": "markdown",
   "metadata": {},
   "source": [
    "Check the structure of the dataframe. \n",
    "Notice that 19 cells are deleted because the were null for the three features earlier mentioned."
   ]
  },
  {
   "cell_type": "code",
   "execution_count": 28,
   "metadata": {},
   "outputs": [
    {
     "data": {
      "text/plain": [
       "month       0\n",
       "state       0\n",
       "permit      5\n",
       "handgun     1\n",
       "long_gun    0\n",
       "multiple    0\n",
       "dtype: int64"
      ]
     },
     "execution_count": 28,
     "metadata": {},
     "output_type": "execute_result"
    }
   ],
   "source": [
    "df_gun.isnull().sum()"
   ]
  },
  {
   "cell_type": "markdown",
   "metadata": {},
   "source": [
    "The few remaining null values can be replaced with 0, since some other cells have a minimum of 0"
   ]
  },
  {
   "cell_type": "code",
   "execution_count": 29,
   "metadata": {},
   "outputs": [
    {
     "data": {
      "text/html": [
       "<div>\n",
       "<style scoped>\n",
       "    .dataframe tbody tr th:only-of-type {\n",
       "        vertical-align: middle;\n",
       "    }\n",
       "\n",
       "    .dataframe tbody tr th {\n",
       "        vertical-align: top;\n",
       "    }\n",
       "\n",
       "    .dataframe thead th {\n",
       "        text-align: right;\n",
       "    }\n",
       "</style>\n",
       "<table border=\"1\" class=\"dataframe\">\n",
       "  <thead>\n",
       "    <tr style=\"text-align: right;\">\n",
       "      <th></th>\n",
       "      <th>permit</th>\n",
       "      <th>handgun</th>\n",
       "      <th>long_gun</th>\n",
       "      <th>multiple</th>\n",
       "    </tr>\n",
       "  </thead>\n",
       "  <tbody>\n",
       "    <tr>\n",
       "      <th>count</th>\n",
       "      <td>12461.000000</td>\n",
       "      <td>12465.000000</td>\n",
       "      <td>12466.000000</td>\n",
       "      <td>12466.000000</td>\n",
       "    </tr>\n",
       "    <tr>\n",
       "      <th>mean</th>\n",
       "      <td>6413.629404</td>\n",
       "      <td>5940.881107</td>\n",
       "      <td>7810.847585</td>\n",
       "      <td>269.012755</td>\n",
       "    </tr>\n",
       "    <tr>\n",
       "      <th>std</th>\n",
       "      <td>23752.338269</td>\n",
       "      <td>8618.584060</td>\n",
       "      <td>9309.846140</td>\n",
       "      <td>783.711473</td>\n",
       "    </tr>\n",
       "    <tr>\n",
       "      <th>min</th>\n",
       "      <td>0.000000</td>\n",
       "      <td>0.000000</td>\n",
       "      <td>0.000000</td>\n",
       "      <td>0.000000</td>\n",
       "    </tr>\n",
       "    <tr>\n",
       "      <th>25%</th>\n",
       "      <td>0.000000</td>\n",
       "      <td>865.000000</td>\n",
       "      <td>2078.250000</td>\n",
       "      <td>15.000000</td>\n",
       "    </tr>\n",
       "    <tr>\n",
       "      <th>50%</th>\n",
       "      <td>518.000000</td>\n",
       "      <td>3059.000000</td>\n",
       "      <td>5122.000000</td>\n",
       "      <td>125.500000</td>\n",
       "    </tr>\n",
       "    <tr>\n",
       "      <th>75%</th>\n",
       "      <td>4272.000000</td>\n",
       "      <td>7280.000000</td>\n",
       "      <td>10380.750000</td>\n",
       "      <td>301.000000</td>\n",
       "    </tr>\n",
       "    <tr>\n",
       "      <th>max</th>\n",
       "      <td>522188.000000</td>\n",
       "      <td>107224.000000</td>\n",
       "      <td>108058.000000</td>\n",
       "      <td>38907.000000</td>\n",
       "    </tr>\n",
       "  </tbody>\n",
       "</table>\n",
       "</div>"
      ],
      "text/plain": [
       "              permit        handgun       long_gun      multiple\n",
       "count   12461.000000   12465.000000   12466.000000  12466.000000\n",
       "mean     6413.629404    5940.881107    7810.847585    269.012755\n",
       "std     23752.338269    8618.584060    9309.846140    783.711473\n",
       "min         0.000000       0.000000       0.000000      0.000000\n",
       "25%         0.000000     865.000000    2078.250000     15.000000\n",
       "50%       518.000000    3059.000000    5122.000000    125.500000\n",
       "75%      4272.000000    7280.000000   10380.750000    301.000000\n",
       "max    522188.000000  107224.000000  108058.000000  38907.000000"
      ]
     },
     "execution_count": 29,
     "metadata": {},
     "output_type": "execute_result"
    }
   ],
   "source": [
    "df_gun.describe()"
   ]
  },
  {
   "cell_type": "code",
   "execution_count": 30,
   "metadata": {},
   "outputs": [],
   "source": [
    "df_gun.fillna(value=0, inplace=True)"
   ]
  },
  {
   "cell_type": "markdown",
   "metadata": {},
   "source": [
    "Now, confirm that the dataset is clean enough."
   ]
  },
  {
   "cell_type": "code",
   "execution_count": 31,
   "metadata": {},
   "outputs": [
    {
     "data": {
      "text/plain": [
       "month       0\n",
       "state       0\n",
       "permit      0\n",
       "handgun     0\n",
       "long_gun    0\n",
       "multiple    0\n",
       "dtype: int64"
      ]
     },
     "execution_count": 31,
     "metadata": {},
     "output_type": "execute_result"
    }
   ],
   "source": [
    "df_gun.isnull().sum()"
   ]
  },
  {
   "cell_type": "markdown",
   "metadata": {},
   "source": [
    "Looking at the dataset, it can be observed that month and year are together in a cell. It is neater and better for analysis when each are in different columns. Hence, the next step is to split the attribute into 'month' and 'year'. \n",
    "By so doing, each cell would contain unique value."
   ]
  },
  {
   "cell_type": "code",
   "execution_count": 32,
   "metadata": {},
   "outputs": [
    {
     "name": "stderr",
     "output_type": "stream",
     "text": [
      "<ipython-input-32-590957e8022e>:1: FutureWarning: Columnar iteration over characters will be deprecated in future releases.\n",
      "  df_gun['year'], df_gun['month'] = df_gun['month'].str.split('-', 1).str\n"
     ]
    }
   ],
   "source": [
    "df_gun['year'], df_gun['month'] = df_gun['month'].str.split('-', 1).str"
   ]
  },
  {
   "cell_type": "code",
   "execution_count": 33,
   "metadata": {},
   "outputs": [
    {
     "data": {
      "text/html": [
       "<div>\n",
       "<style scoped>\n",
       "    .dataframe tbody tr th:only-of-type {\n",
       "        vertical-align: middle;\n",
       "    }\n",
       "\n",
       "    .dataframe tbody tr th {\n",
       "        vertical-align: top;\n",
       "    }\n",
       "\n",
       "    .dataframe thead th {\n",
       "        text-align: right;\n",
       "    }\n",
       "</style>\n",
       "<table border=\"1\" class=\"dataframe\">\n",
       "  <thead>\n",
       "    <tr style=\"text-align: right;\">\n",
       "      <th></th>\n",
       "      <th>month</th>\n",
       "      <th>state</th>\n",
       "      <th>permit</th>\n",
       "      <th>handgun</th>\n",
       "      <th>long_gun</th>\n",
       "      <th>multiple</th>\n",
       "      <th>year</th>\n",
       "    </tr>\n",
       "  </thead>\n",
       "  <tbody>\n",
       "    <tr>\n",
       "      <th>0</th>\n",
       "      <td>09</td>\n",
       "      <td>Alabama</td>\n",
       "      <td>16717.0</td>\n",
       "      <td>5734.0</td>\n",
       "      <td>6320.0</td>\n",
       "      <td>317.0</td>\n",
       "      <td>2017</td>\n",
       "    </tr>\n",
       "    <tr>\n",
       "      <th>1</th>\n",
       "      <td>09</td>\n",
       "      <td>Alaska</td>\n",
       "      <td>209.0</td>\n",
       "      <td>2320.0</td>\n",
       "      <td>2930.0</td>\n",
       "      <td>160.0</td>\n",
       "      <td>2017</td>\n",
       "    </tr>\n",
       "    <tr>\n",
       "      <th>2</th>\n",
       "      <td>09</td>\n",
       "      <td>Arizona</td>\n",
       "      <td>5069.0</td>\n",
       "      <td>11063.0</td>\n",
       "      <td>7946.0</td>\n",
       "      <td>631.0</td>\n",
       "      <td>2017</td>\n",
       "    </tr>\n",
       "    <tr>\n",
       "      <th>3</th>\n",
       "      <td>09</td>\n",
       "      <td>Arkansas</td>\n",
       "      <td>2935.0</td>\n",
       "      <td>4347.0</td>\n",
       "      <td>6063.0</td>\n",
       "      <td>366.0</td>\n",
       "      <td>2017</td>\n",
       "    </tr>\n",
       "    <tr>\n",
       "      <th>4</th>\n",
       "      <td>09</td>\n",
       "      <td>California</td>\n",
       "      <td>57839.0</td>\n",
       "      <td>37165.0</td>\n",
       "      <td>24581.0</td>\n",
       "      <td>0.0</td>\n",
       "      <td>2017</td>\n",
       "    </tr>\n",
       "  </tbody>\n",
       "</table>\n",
       "</div>"
      ],
      "text/plain": [
       "  month       state   permit  handgun  long_gun  multiple  year\n",
       "0    09     Alabama  16717.0   5734.0    6320.0     317.0  2017\n",
       "1    09      Alaska    209.0   2320.0    2930.0     160.0  2017\n",
       "2    09     Arizona   5069.0  11063.0    7946.0     631.0  2017\n",
       "3    09    Arkansas   2935.0   4347.0    6063.0     366.0  2017\n",
       "4    09  California  57839.0  37165.0   24581.0       0.0  2017"
      ]
     },
     "execution_count": 33,
     "metadata": {},
     "output_type": "execute_result"
    }
   ],
   "source": [
    "df_gun.head()"
   ]
  },
  {
   "cell_type": "markdown",
   "metadata": {},
   "source": [
    "<a id='eda'></a>\n",
    "## Exploratory Data Analysis\n",
    "In this section, we investigate for relevant information from the cleaned datasets. \n",
    "We ask some questions that will guide our analysis.\n",
    "\n",
    "First, we define a function to handle our various plots while avoiding repetitive codes.\n",
    "Also, we visualize the guns dataset to give some insight."
   ]
  },
  {
   "cell_type": "code",
   "execution_count": 34,
   "metadata": {},
   "outputs": [],
   "source": [
    "def make_plots(df, x_axis, y_axis, plot_title, plot_type):\n",
    "    df.plot(x=x_axis, y=y_axis, title=plot_title, kind=plot_type, figsize=[8,8]);"
   ]
  },
  {
   "cell_type": "code",
   "execution_count": 35,
   "metadata": {},
   "outputs": [],
   "source": [
    "df_gun=df_gun.sort_values(by='month')"
   ]
  },
  {
   "cell_type": "code",
   "execution_count": 36,
   "metadata": {},
   "outputs": [
    {
     "data": {
      "image/png": "[encoded data removed]",
      "text/plain": [
       "<Figure size 432x288 with 1 Axes>"
      ]
     },
     "metadata": {
      "needs_background": "light"
     },
     "output_type": "display_data"
    }
   ],
   "source": [
    "df_gun.plot(x='month', y='handgun', title='Gun checks', kind='scatter');"
   ]
  },
  {
   "cell_type": "markdown",
   "metadata": {},
   "source": [
    "The chart illustrates the checks for handguns, with December (i.e 12) recording the highest demand.\n"
   ]
  },
  {
   "cell_type": "code",
   "execution_count": 37,
   "metadata": {},
   "outputs": [
    {
     "data": {
      "image/png": "[encoded data removed]",
      "text/plain": [
       "<Figure size 576x576 with 1 Axes>"
      ]
     },
     "metadata": {
      "needs_background": "light"
     },
     "output_type": "display_data"
    }
   ],
   "source": [
    "#Histogram plot to show the distribution in the gun checks.                                              \n",
    "make_plots(df=df_gun, x_axis='month', y_axis=['handgun', 'long_gun'], plot_title='Gun checks', plot_type='hist')"
   ]
  },
  {
   "cell_type": "code",
   "execution_count": 38,
   "metadata": {},
   "outputs": [
    {
     "data": {
      "image/png": "[encoded data removed]",
      "text/plain": [
       "<Figure size 576x576 with 1 Axes>"
      ]
     },
     "metadata": {
      "needs_background": "light"
     },
     "output_type": "display_data"
    }
   ],
   "source": [
    "make_plots(df=df_gun, x_axis='month', y_axis='handgun', plot_title='Gun checks', plot_type='scatter')"
   ]
  },
  {
   "cell_type": "markdown",
   "metadata": {},
   "source": [
    "The scatter plot shows how handguns were requested for background checks."
   ]
  },
  {
   "cell_type": "code",
   "execution_count": 39,
   "metadata": {},
   "outputs": [
    {
     "data": {
      "image/png": "[encoded data removed]",
      "text/plain": [
       "<Figure size 576x576 with 1 Axes>"
      ]
     },
     "metadata": {
      "needs_background": "light"
     },
     "output_type": "display_data"
    }
   ],
   "source": [
    "make_plots(df=df_gun, x_axis='month', y_axis='long_gun', plot_title='Gun checks', plot_type='scatter')"
   ]
  },
  {
   "cell_type": "markdown",
   "metadata": {},
   "source": [
    "The scatter plot shows how long guns were requested for background checks. It gives an insight into the months that long guns may be in high demand."
   ]
  },
  {
   "cell_type": "markdown",
   "metadata": {},
   "source": [
    "\n",
    "### Research Question 1: \n",
    "#### Which state made the highest permit checks? In what month and year? "
   ]
  },
  {
   "cell_type": "code",
   "execution_count": 40,
   "metadata": {},
   "outputs": [],
   "source": [
    "#Calculate the maximum value in the 'permit' column\n",
    "max_val = df_gun['permit'].max()"
   ]
  },
  {
   "cell_type": "code",
   "execution_count": 41,
   "metadata": {},
   "outputs": [],
   "source": [
    "#Get the records for the maximum 'permit' value\n",
    "df_check = df_gun.query('permit == @max_val')"
   ]
  },
  {
   "cell_type": "code",
   "execution_count": 42,
   "metadata": {},
   "outputs": [
    {
     "data": {
      "text/html": [
       "<div>\n",
       "<style scoped>\n",
       "    .dataframe tbody tr th:only-of-type {\n",
       "        vertical-align: middle;\n",
       "    }\n",
       "\n",
       "    .dataframe tbody tr th {\n",
       "        vertical-align: top;\n",
       "    }\n",
       "\n",
       "    .dataframe thead th {\n",
       "        text-align: right;\n",
       "    }\n",
       "</style>\n",
       "<table border=\"1\" class=\"dataframe\">\n",
       "  <thead>\n",
       "    <tr style=\"text-align: right;\">\n",
       "      <th></th>\n",
       "      <th>month</th>\n",
       "      <th>state</th>\n",
       "      <th>permit</th>\n",
       "      <th>handgun</th>\n",
       "      <th>long_gun</th>\n",
       "      <th>multiple</th>\n",
       "      <th>year</th>\n",
       "    </tr>\n",
       "  </thead>\n",
       "  <tbody>\n",
       "    <tr>\n",
       "      <th>2345</th>\n",
       "      <td>03</td>\n",
       "      <td>North Carolina</td>\n",
       "      <td>522188.0</td>\n",
       "      <td>1054.0</td>\n",
       "      <td>13571.0</td>\n",
       "      <td>227.0</td>\n",
       "      <td>2014</td>\n",
       "    </tr>\n",
       "  </tbody>\n",
       "</table>\n",
       "</div>"
      ],
      "text/plain": [
       "     month           state    permit  handgun  long_gun  multiple  year\n",
       "2345    03  North Carolina  522188.0   1054.0   13571.0     227.0  2014"
      ]
     },
     "execution_count": 42,
     "metadata": {},
     "output_type": "execute_result"
    }
   ],
   "source": [
    "df_check"
   ]
  },
  {
   "cell_type": "code",
   "execution_count": 43,
   "metadata": {},
   "outputs": [
    {
     "data": {
      "image/png": "[encoded data removed]",
      "text/plain": [
       "<Figure size 576x576 with 1 Axes>"
      ]
     },
     "metadata": {
      "needs_background": "light"
     },
     "output_type": "display_data"
    }
   ],
   "source": [
    "make_plots(df=df_gun, x_axis='state', y_axis='permit', plot_title='Gun checks', plot_type='scatter')"
   ]
  },
  {
   "cell_type": "markdown",
   "metadata": {},
   "source": [
    "We notice from the scatter plot, that there were more permit checks in some states than in others. Also, some notable outliers can be seen. Further investigation may seek to know the reason for the obvious outliers and the states where they occured."
   ]
  },
  {
   "cell_type": "markdown",
   "metadata": {},
   "source": [
    "### Answer to Research Question 1: \n",
    "#### North Carolina made the highest gun checks, which occured in March 2014."
   ]
  },
  {
   "cell_type": "markdown",
   "metadata": {},
   "source": [
    "### Research Question 2: \n",
    "#### What type of gun was most prefered in Texas in 2017? "
   ]
  },
  {
   "cell_type": "code",
   "execution_count": 44,
   "metadata": {},
   "outputs": [
    {
     "data": {
      "text/plain": [
       "11100         Tennessee\n",
       "11099      South Dakota\n",
       "11098    South Carolina\n",
       "11107     West Virginia\n",
       "3163            Montana\n",
       "Name: state, dtype: object"
      ]
     },
     "execution_count": 44,
     "metadata": {},
     "output_type": "execute_result"
    }
   ],
   "source": [
    "df_gun.state.tail()"
   ]
  },
  {
   "cell_type": "markdown",
   "metadata": {},
   "source": [
    "We search for information about Texas in year 2017.\n",
    "\n",
    "Then we add up all the request for that year, for each field.\n",
    "\n",
    "Focus should be on the numeric values; concatenation of strings are not considered here."
   ]
  },
  {
   "cell_type": "code",
   "execution_count": 45,
   "metadata": {},
   "outputs": [
    {
     "data": {
      "text/plain": [
       "month                                  010203040506070809\n",
       "state       TexasTexasTexasTexasTexasTexasTexasTexasTexas\n",
       "permit                                             228878\n",
       "handgun                                            405030\n",
       "long_gun                                           285530\n",
       "multiple                                            22660\n",
       "year                 201720172017201720172017201720172017\n",
       "dtype: object"
      ]
     },
     "execution_count": 45,
     "metadata": {},
     "output_type": "execute_result"
    }
   ],
   "source": [
    "df_Texas = df_gun.query('state==\"Texas\"  & year==\"2017\"')\n",
    "df_Texas.sum()"
   ]
  },
  {
   "cell_type": "markdown",
   "metadata": {},
   "source": [
    "We visualize the gun checks for Texas in the year 2017. <p>\n",
    "The earlier created function 'make_plots' will be used with required parameters supplied."
   ]
  },
  {
   "cell_type": "code",
   "execution_count": 46,
   "metadata": {},
   "outputs": [],
   "source": [
    "df_Texas=df_Texas.sort_values(by='month')"
   ]
  },
  {
   "cell_type": "code",
   "execution_count": 47,
   "metadata": {},
   "outputs": [
    {
     "data": {
      "image/png": "[encoded data removed]",
      "text/plain": [
       "<Figure size 576x576 with 1 Axes>"
      ]
     },
     "metadata": {
      "needs_background": "light"
     },
     "output_type": "display_data"
    }
   ],
   "source": [
    "make_plots(df=df_Texas, x_axis='month', y_axis=['handgun', 'long_gun'], plot_title='Gun checks in Texas', plot_type='line')"
   ]
  },
  {
   "cell_type": "markdown",
   "metadata": {},
   "source": [
    "We observe there was steady decline in the number of gun checks in Texas.<p>\n",
    "The least checks was observed in July (i.e. 07), followed by a small increase."
   ]
  },
  {
   "cell_type": "code",
   "execution_count": 48,
   "metadata": {},
   "outputs": [
    {
     "data": {
      "image/png": "[encoded data removed]",
      "text/plain": [
       "<Figure size 576x576 with 1 Axes>"
      ]
     },
     "metadata": {
      "needs_background": "light"
     },
     "output_type": "display_data"
    }
   ],
   "source": [
    "#Call the make_plot function to create the needed plot\n",
    "make_plots(df=df_Texas, x_axis='month', y_axis=['handgun', 'long_gun', 'multiple'], plot_title='Gun checks in Texas', plot_type='bar')"
   ]
  },
  {
   "cell_type": "markdown",
   "metadata": {},
   "source": [
    "It can be observed that handgun towers above almost all gun enquiries in 2017. <p>\n",
    "This is an indication that in Texas, more people are interested in handgun that in long_guns."
   ]
  },
  {
   "cell_type": "markdown",
   "metadata": {},
   "source": [
    "### Answer to Research Question  2: \n",
    "#### In year 2017, handgun was most preferred in Texas with 405030 enquiries.\n",
    "\n"
   ]
  },
  {
   "cell_type": "markdown",
   "metadata": {},
   "source": [
    "### Research Question 3: \n",
    "#### How many poor people in New York might have checked for multiple weapons? "
   ]
  },
  {
   "cell_type": "markdown",
   "metadata": {},
   "source": [
    "First, search for checks made in New York, then compute the total checks"
   ]
  },
  {
   "cell_type": "code",
   "execution_count": 49,
   "metadata": {},
   "outputs": [],
   "source": [
    "df_NJ = df_gun.query('state==\"New York\"')\n",
    "gun_checks = df_NJ['multiple'].sum()"
   ]
  },
  {
   "cell_type": "code",
   "execution_count": 50,
   "metadata": {},
   "outputs": [
    {
     "data": {
      "text/plain": [
       "18256.0"
      ]
     },
     "execution_count": 50,
     "metadata": {},
     "output_type": "execute_result"
    }
   ],
   "source": [
    "gun_checks"
   ]
  },
  {
   "cell_type": "code",
   "execution_count": 51,
   "metadata": {},
   "outputs": [
    {
     "data": {
      "text/plain": [
       "array(['0.147'], dtype=object)"
      ]
     },
     "execution_count": 51,
     "metadata": {},
     "output_type": "execute_result"
    }
   ],
   "source": [
    "df_poor=df_census.query('Fact == \"Persons in poverty, percent\"')['New York'].values\n",
    "df_poor"
   ]
  },
  {
   "cell_type": "markdown",
   "metadata": {},
   "source": [
    "Change the datatype from string (dataframe object) to numeric value"
   ]
  },
  {
   "cell_type": "code",
   "execution_count": 52,
   "metadata": {},
   "outputs": [],
   "source": [
    "poor=df_poor.astype('float64')"
   ]
  },
  {
   "cell_type": "markdown",
   "metadata": {},
   "source": [
    "To get the number of poor persons that performed gun checks for multiple weapons,\n",
    "Multiply the number of gun checks by the percentage of poor people in that state."
   ]
  },
  {
   "cell_type": "code",
   "execution_count": 53,
   "metadata": {},
   "outputs": [
    {
     "name": "stdout",
     "output_type": "stream",
     "text": [
      "[2683.632]\n"
     ]
    }
   ],
   "source": [
    "print(gun_checks * poor)"
   ]
  },
  {
   "cell_type": "markdown",
   "metadata": {},
   "source": [
    "### Answer to Research Question 3: \n",
    "#### About 2,684 poor people in New York performed checks for multiple weapons."
   ]
  },
  {
   "cell_type": "markdown",
   "metadata": {},
   "source": [
    "<a id='conclusions'></a>\n",
    "## Conclusions"
   ]
  },
  {
   "cell_type": "markdown",
   "metadata": {},
   "source": [
    "#### Results\n",
    "In this expoloratory data analysis, we have investigated checks for guns in the United States of America. \n",
    "It was observed that North Carolina made the highest gun checks during the period under review, which occured in March 2014.\n",
    "Also, in year 2017, handgun was most preferred in Texas with cumulative total of 405030 enquiries.\n",
    "\n",
    "An estimated 14.7% of people in New York are living in poverty. Between 1998 and 2017, a total of 18256 multiple weapons checks\n",
    "were recorded for New York. This means that about 2,684 poor people in New York performed checks for multiple weapons.\n",
    "\n",
    "It should be noted that gun enquires does not always lead to sales. Some states in the USA perform routine checks on gun holders. \n",
    "Also, a background check is required for anyone intending to buy weapons, ascertaining their suitability. \n",
    "\n",
    "#### Limitations\n",
    "The guns dataset is riddled with so many attributes, many of which are not required in this study. Particularly, we stay limited to 'month', 'state', 'permit', 'short guns', 'long_guns', and 'multple'; they are most relevant to our study. <p>\n",
    "    \n",
    "    It is noteworthy that this dataset cannot be used to analyse buying pattern."
   ]
  },
  {
   "cell_type": "markdown",
   "metadata": {},
   "source": [
    "<a id='references'></a>\n",
    "## References"
   ]
  },
  {
   "cell_type": "markdown",
   "metadata": {},
   "source": [
    "1. https://stackoverflow.com/\n",
    "2. https://pandas.pydata.org/pandas-docs/stable/reference/api/pandas.DataFrame.plot.html"
   ]
  },
  {
   "cell_type": "code",
   "execution_count": 56,
   "metadata": {},
   "outputs": [
    {
     "data": {
      "text/plain": [
       "4294967295"
      ]
     },
     "execution_count": 56,
     "metadata": {},
     "output_type": "execute_result"
    }
   ],
   "source": [
    "from subprocess import call\n",
    "call(['python', '-m', 'nbconvert', 'EjodamenPU2_Investigate_a_Dataset.ipynb'])"
   ]
  },
  {
   "cell_type": "code",
   "execution_count": 54,
   "metadata": {},
   "outputs": [],
   "source": [
    "#Install converter libraries, if not available in system\n",
    "#pip install nbconvert[webpdf] --allow-chromium-download"
   ]
  },
  {
   "cell_type": "code",
   "execution_count": 55,
   "metadata": {},
   "outputs": [],
   "source": [
    "#pip install nbconvert[webpdf] --allow-chromium-download"
   ]
  },
  {
   "cell_type": "code",
   "execution_count": null,
   "metadata": {},
   "outputs": [],
   "source": []
  }
 ],
 "metadata": {
  "kernelspec": {
   "display_name": "Python 3",
   "language": "python",
   "name": "python3"
  },
  "language_info": {
   "codemirror_mode": {
    "name": "ipython",
    "version": 3
   },
   "file_extension": ".py",
   "mimetype": "text/x-python",
   "name": "python",
   "nbconvert_exporter": "python",
   "pygments_lexer": "ipython3",
   "version": "3.8.5"
  }
 },
 "nbformat": 4,
 "nbformat_minor": 2
}
